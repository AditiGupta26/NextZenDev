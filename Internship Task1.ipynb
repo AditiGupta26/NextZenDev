{
 "cells": [
  {
   "cell_type": "code",
   "execution_count": 1,
   "id": "b7018fbd-2e6f-4b7d-8d22-ba8f05be32a7",
   "metadata": {},
   "outputs": [],
   "source": [
    "import tkinter as tk\n",
    "\n",
    "class MyCalculator:\n",
    "    def __init__(self, root):\n",
    "        self.root = root\n",
    "        self.root.title(\"NextZenDev Calc\")\n",
    "        self.expression = \"\"\n",
    "        \n",
    "        self.display = tk.Entry(root, font=(\"Arial\", 20), borderwidth=5, relief=\"sunken\")\n",
    "        self.display.grid(row=0, column=0, columnspan=5)\n",
    "        \n",
    "        self.create_buttons()\n",
    "    \n",
    "    def create_buttons(self):\n",
    "        buttons = [\n",
    "            ('C', 1, 0), ('DEL', 1, 1), ('%', 1, 2), ('/', 1, 3),\n",
    "            ('7', 2, 0), ('8', 2, 1), ('9', 2, 2), ('*', 2, 3),\n",
    "            ('4', 3, 0), ('5', 3, 1), ('6', 3, 2), ('-', 3, 3),\n",
    "            ('1', 4, 0), ('2', 4, 1), ('3', 4, 2), ('+', 4, 3),\n",
    "            ('0', 5, 1), ('.', 5, 2), ('=', 5, 3)\n",
    "        ]\n",
    "\n",
    "        for (text, row, col) in buttons:\n",
    "            button = tk.Button(self.root, text=text, font=(\"Arial\", 18), command=lambda t=text: self.click(t))\n",
    "            button.grid(row=row, column=col, ipadx=10, ipady=10, sticky=\"nsew\")\n",
    "        \n",
    "        # Expanding the grid\n",
    "        for i in range(4):\n",
    "            self.root.grid_columnconfigure(i, weight=1)\n",
    "        for i in range(6):\n",
    "            self.root.grid_rowconfigure(i, weight=1)\n",
    "\n",
    "    def click(self, text):\n",
    "        if text == 'C':\n",
    "            self.expression = \"\"\n",
    "        elif text == 'DEL':\n",
    "            self.expression = self.expression[:-1]\n",
    "        elif text == '=':\n",
    "            try:\n",
    "                self.expression = str(eval(self.expression))\n",
    "            except Exception:\n",
    "                self.expression = \"Error\"\n",
    "        else:\n",
    "            self.expression += str(text)\n",
    "        \n",
    "        self.update_display()\n",
    "\n",
    "    def update_display(self):\n",
    "        self.display.delete(0, tk.END)\n",
    "        self.display.insert(tk.END, self.expression)\n",
    "\n",
    "if __name__ == \"__main__\":\n",
    "    root = tk.Tk()\n",
    "    calc = MyCalculator(root)\n",
    "    root.mainloop()\n"
   ]
  },
  {
   "cell_type": "code",
   "execution_count": null,
   "id": "358c890a-72d9-46b5-8c19-c77f37b9e298",
   "metadata": {},
   "outputs": [],
   "source": []
  }
 ],
 "metadata": {
  "kernelspec": {
   "display_name": "Python 3 (ipykernel)",
   "language": "python",
   "name": "python3"
  },
  "language_info": {
   "codemirror_mode": {
    "name": "ipython",
    "version": 3
   },
   "file_extension": ".py",
   "mimetype": "text/x-python",
   "name": "python",
   "nbconvert_exporter": "python",
   "pygments_lexer": "ipython3",
   "version": "3.11.7"
  },
  "widgets": {
   "application/vnd.jupyter.widget-state+json": {
    "state": {},
    "version_major": 2,
    "version_minor": 0
   }
  }
 },
 "nbformat": 4,
 "nbformat_minor": 5
}
